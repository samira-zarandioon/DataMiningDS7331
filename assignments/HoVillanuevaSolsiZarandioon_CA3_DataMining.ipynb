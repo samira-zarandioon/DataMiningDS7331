{
 "cells": [
  {
   "cell_type": "code",
   "execution_count": 1,
   "metadata": {
    "collapsed": false
   },
   "outputs": [
    {
     "data": {
      "text/html": [
       "<link href='https://fonts.googleapis.com/css?family=Passion+One' rel='stylesheet' type='text/css'><style>div.attn { font-family: 'Helvetica Neue'; font-size: 30px; line-height: 40px; color: #FFFFFF; text-align: center; margin: 30px 0; border-width: 10px 0; border-style: solid; border-color: #5AAAAA; padding: 30px 0; background-color: #DDDDFF; }hr { border: 0; background-color: #ffffff; border-top: 1px solid black; }hr.major { border-top: 10px solid #5AAA5A; }hr.minor { border: none; background-color: #ffffff; border-top: 5px dotted #CC3333; }div.bubble { width: 65%; padding: 20px; background: #DDDDDD; border-radius: 15px; margin: 0 auto; font-style: italic; color: #f00; }em { color: #AAA; }div.c1{visibility:hidden;margin:0;height:0;}div.note{color:red;}</style>"
      ],
      "text/plain": [
       "<IPython.core.display.HTML object>"
      ]
     },
     "execution_count": 1,
     "metadata": {},
     "output_type": "execute_result"
    }
   ],
   "source": [
    "#  Ebnable HTML/CSS \n",
    "from IPython.core.display import HTML\n",
    "HTML(\"<link href='https://fonts.googleapis.com/css?family=Passion+One' rel='stylesheet' type='text/css'><style>div.attn { font-family: 'Helvetica Neue'; font-size: 30px; line-height: 40px; color: #FFFFFF; text-align: center; margin: 30px 0; border-width: 10px 0; border-style: solid; border-color: #5AAAAA; padding: 30px 0; background-color: #DDDDFF; }hr { border: 0; background-color: #ffffff; border-top: 1px solid black; }hr.major { border-top: 10px solid #5AAA5A; }hr.minor { border: none; background-color: #ffffff; border-top: 5px dotted #CC3333; }div.bubble { width: 65%; padding: 20px; background: #DDDDDD; border-radius: 15px; margin: 0 auto; font-style: italic; color: #f00; }em { color: #AAA; }div.c1{visibility:hidden;margin:0;height:0;}div.note{color:red;}</style>\")"
   ]
  },
  {
   "cell_type": "markdown",
   "metadata": {},
   "source": [
    "___\n",
    "Enter Team Member Names here (double click to edit):\n",
    "\n",
    "- Name 1: Andy Ho (Team Lead)\n",
    "- Name 2: Jaime Villanueva\n",
    "- Name 3: Samira Zarandioon\n",
    "- Name 4: Anjli Solsi\n",
    "\n",
    "________\n",
    "\n",
    "# In Class Assignment Three\n",
    "In the following assignment you will be asked to fill in python code and derivations for a number of different problems. Please read all instructions carefully and turn in the rendered notebook (or HTML of the rendered notebook)  before the end of class.\n",
    "\n",
    "<a id=\"top\"></a>\n",
    "## Contents\n",
    "* <a href=\"#Loading\">Loading the Data</a>\n",
    "* <a href=\"#distance\">Measuring Distances</a>\n",
    "* <a href=\"#KNN\">K-Nearest Neighbors</a>\n",
    "* <a href=\"#naive\">Naive Bayes</a>\n",
    "\n",
    "________________________________________________________________________________________________________\n",
    "<a id=\"Loading\"></a>\n",
    "<a href=\"#top\">Back to Top</a>\n",
    "## Downloading the Document Data\n",
    "Please run the following code to read in the \"20 newsgroups\" dataset from sklearn's data loading module."
   ]
  },
  {
   "cell_type": "code",
   "execution_count": 2,
   "metadata": {
    "collapsed": false
   },
   "outputs": [
    {
     "name": "stdout",
     "output_type": "stream",
     "text": [
      "features shape: (11314, 130107)\n",
      "target shape: (11314,)\n",
      "range of target: 0 19\n",
      "Data type is <class 'scipy.sparse.csr.csr_matrix'> 0.1214353154362896 % of the data is non-zero\n"
     ]
    }
   ],
   "source": [
    "from sklearn.datasets import fetch_20newsgroups_vectorized\n",
    "import numpy as np\n",
    "from __future__ import print_function\n",
    "\n",
    "# this takes about 30 seconds to compute, read the next section while this downloads\n",
    "ds = fetch_20newsgroups_vectorized(subset='train')\n",
    "\n",
    "# this holds the continuous feature data (which is tfidf)\n",
    "print('features shape:', ds.data.shape) # there are ~11000 instances and ~130k features per instance\n",
    "print('target shape:', ds.target.shape) \n",
    "print('range of target:', np.min(ds.target),np.max(ds.target))\n",
    "print('Data type is', type(ds.data), float(ds.data.nnz)/(ds.data.shape[0]*ds.data.shape[1])*100, '% of the data is non-zero')"
   ]
  },
  {
   "cell_type": "markdown",
   "metadata": {},
   "source": [
    "## Understanding the Dataset\n",
    "Look at the description for the 20 newsgroups dataset at http://qwone.com/~jason/20Newsgroups/. You have just downloaded the \"vectorized\" version of the dataset, which means all the words inside the articles have gone through a transformation that binned them into 130 thousand features related to the words in them.  \n",
    "\n",
    "**Question Set 1**:\n",
    "- How many instances are in the dataset? \n",
    "11,314\n",
    "- What does each instance represent? \n",
    "Newsgroup Documents\n",
    "- How many classes are in the dataset and what does each class represent?\n",
    "20| Categories of News\n",
    "- Would you expect a classifier trained on this data would generalize to documents written in the past week? Why or why not?\n",
    "We do not expect the classifer trained on this data would generalize since the documents are outdated.  The news has evolved and changed since then.\n",
    "- Is the data represented as a sparse or dense matrix?\n",
    "Sparse Matrix"
   ]
  },
  {
   "cell_type": "markdown",
   "metadata": {},
   "source": [
    "___\n",
    "Enter your answer here:\n",
    "\n",
    "- 11,314 instances in the dataset\n",
    "- Each instance represent newsgroup documents\n",
    "- There are 20 classes, each representing the categories of news.\n",
    "- We do not expect the classifer trained on this data would generalize since the documents are outdated.  The news has evolved and changed since then.\n",
    "- Sparse Matrix\n",
    "\n",
    "\n",
    "\n"
   ]
  },
  {
   "cell_type": "markdown",
   "metadata": {},
   "source": [
    "___\n",
    "<a id=\"distance\"></a>\n",
    "<a href=\"#top\">Back to Top</a>\n",
    "## Measures of Distance\n",
    "In the following block of code, we isolate three instances from the dataset. The instance \"`a`\" is from the group *computer graphics*, \"`b`\" is from from the group *recreation autos*, and \"`c`\" is from group *recreation motorcycle*. **Exercise for part 2**: Calculate the: \n",
    "- (1) Euclidean distance\n",
    "- (2) Cosine distance \n",
    "- (3) Jaccard similarity \n",
    "\n",
    "between each pair of instances using the imported functions below. Remember that the Jaccard similarity is only for binary valued vectors, so convert vectors to binary using a threshold. \n",
    "\n",
    "**Question for part 2**: Which distance seems more appropriate to use for this data? **Why**?"
   ]
  },
  {
   "cell_type": "code",
   "execution_count": 37,
   "metadata": {
    "collapsed": false
   },
   "outputs": [
    {
     "name": "stdout",
     "output_type": "stream",
     "text": [
      "Instance A is from class comp.graphics\n",
      "Instance B is from class rec.autos\n",
      "Instance C is from class rec.motorcycles\n",
      "\n",
      "\n",
      "Euclidean Distance\n",
      " ab: 1.0985184671870858 ac: 1.1891405425398236 bc: 0.9177794226661624\n",
      "Cosine Distance\n",
      " ab: 0.6033714113755322 ac: 0.7070276149559529 bc: 0.4211595343347173\n",
      "Jaccard Dissimilarity (vectors should be boolean values)\n",
      " ab: 0.8821138211382114 ac: 0.8754716981132076 bc: 0.9087947882736156\n",
      "\n",
      "\n",
      "The most appropriate distance is...\n",
      "Cosine is the most appropriate since it has the smallest value where bc = 0.42\n"
     ]
    }
   ],
   "source": [
    "from scipy.spatial.distance import cosine\n",
    "from scipy.spatial.distance import euclidean\n",
    "from scipy.spatial.distance import jaccard\n",
    "import numpy as np\n",
    "\n",
    "# get first instance (comp)\n",
    "idx = 550\n",
    "a = ds.data[idx].todense()\n",
    "a_class = ds.target_names[ds.target[idx]]\n",
    "print('Instance A is from class', a_class)\n",
    "\n",
    "# get second instance (autos)\n",
    "idx = 4000\n",
    "b = ds.data[idx].todense()\n",
    "b_class = ds.target_names[ds.target[idx]]\n",
    "print('Instance B is from class', b_class)\n",
    "\n",
    "# get third instance (motorcycle)\n",
    "idx = 7000\n",
    "c = ds.data[idx].todense()\n",
    "c_class = ds.target_names[ds.target[idx]]\n",
    "print('Instance C is from class', c_class)\n",
    "\n",
    "# Enter distance comparison below for each pair of vectors:\n",
    "p = 'Placeholder'\n",
    "print('\\n\\nEuclidean Distance\\n ab:', euclidean(a,b), 'ac:', euclidean (a,c), 'bc:',euclidean (b,c))\n",
    "print('Cosine Distance\\n ab:', cosine(a,b), 'ac:', cosine(a,c), 'bc:', cosine (b,c))\n",
    "print('Jaccard Dissimilarity (vectors should be boolean values)\\n ab:', jaccard (a>0, b>0), 'ac:', jaccard (a>0, c>0), 'bc:', jaccard(b>0, c>0))\n",
    "\n",
    "print('\\n\\nThe most appropriate distance is...')\n",
    "print('Cosine is the most appropriate since it has the smallest value where bc = 0.42')"
   ]
  },
  {
   "cell_type": "markdown",
   "metadata": {},
   "source": [
    "___\n",
    "# Start of Live Session Assignment\n",
    "___\n",
    "<a id=\"KNN\"></a>\n",
    "<a href=\"#top\">Back to Top</a>\n",
    "## Using scikit-learn with KNN\n",
    "Now let's use stratified cross validation with a holdout set to train a KNN model in `scikit-learn`. Use the example below to train a KNN classifier. The documentation for `KNeighborsClassifier` is here: http://scikit-learn.org/stable/modules/generated/sklearn.neighbors.KNeighborsClassifier.html  \n",
    "\n",
    "**Exercise for part 3**: Use the code below to test what value of `n_neighbors` works best for the given data. *Note: do NOT change the metric to be anything other than `'euclidean'`. Other distance functions are not optimized for the amount of data we are working with.* \n",
    "\n",
    "**Question for part 3**: What is the accuracy of the best classifier you can create for this data (by changing only the `n_neighbors` parameter)? "
   ]
  },
  {
   "cell_type": "code",
   "execution_count": 17,
   "metadata": {
    "collapsed": false
   },
   "outputs": [
    {
     "name": "stdout",
     "output_type": "stream",
     "text": [
      "Accuracy of classifier with 1 neighbors is: 0.59\n",
      "Accuracy of classifier with 2 neighbors is: 0.54\n",
      "Accuracy of classifier with 3 neighbors is: 0.51\n",
      "Accuracy of classifier with 4 neighbors is: 0.50\n",
      "Accuracy of classifier with 5 neighbors is: 0.49\n",
      "Accuracy of classifier with 6 neighbors is: 0.48\n",
      "Accuracy of classifier with 7 neighbors is: 0.47\n",
      "Accuracy of classifier with 8 neighbors is: 0.46\n",
      "Accuracy of classifier with 9 neighbors is: 0.45\n",
      "Accuracy of classifier with 10 neighbors is: 0.44\n",
      "Accuracy of classifier with 11 neighbors is: 0.44\n",
      "Accuracy of classifier with 12 neighbors is: 0.43\n",
      "Accuracy of classifier with 13 neighbors is: 0.43\n",
      "Accuracy of classifier with 14 neighbors is: 0.42\n",
      "Accuracy of classifier with 15 neighbors is: 0.42\n",
      "Accuracy of classifier with 16 neighbors is: 0.41\n",
      "Accuracy of classifier with 17 neighbors is: 0.41\n",
      "Accuracy of classifier with 18 neighbors is: 0.41\n",
      "Accuracy of classifier with 19 neighbors is: 0.40\n",
      "Accuracy of classifier with 20 neighbors is: 0.40\n"
     ]
    }
   ],
   "source": [
    "from sklearn.cross_validation import StratifiedShuffleSplit\n",
    "from sklearn.neighbors import KNeighborsClassifier\n",
    "from sklearn.metrics import accuracy_score\n",
    "from IPython.html import widgets \n",
    "\n",
    "cv = StratifiedShuffleSplit(ds.target, n_iter = 1, test_size = 0.5, train_size=0.5)\n",
    "\n",
    "# fill in the training and testing data and save as separate variables\n",
    "for trainidx, testidx in cv:\n",
    "    # note that these are sparse matrices\n",
    "    X_train = ds.data[trainidx] \n",
    "    X_test = ds.data[testidx] \n",
    "    y_train = ds.target[trainidx]\n",
    "    y_test = ds.target[testidx]\n",
    "\n",
    "# fill in your code  here to train and test\n",
    "# calculate the accuracy and print it for various values of K\n",
    "# K = 5 \n",
    "for k in [1,2,3,4,5,6,7,8,9,10,11,12,13,14,15,16,17,18,19,20]:\n",
    "    clf = KNeighborsClassifier(n_neighbors=k, weights='uniform', metric='euclidean')\n",
    "    clf.fit(X_train, y_train)\n",
    "    acc = clf.score (X_test, y_test)\n",
    "    print('Accuracy of classifier with %d neighbors is: %.2f'%(k,acc))\n",
    "\n",
    "\n",
    "acc = 0.2 # overwrite this with the actual accuracy\n",
    "\n",
    "#=====================================\n",
    "\n",
    "#print('Accuracy of classifier with %d neighbors is: %.2f'%(K,acc))\n"
   ]
  },
  {
   "cell_type": "markdown",
   "metadata": {},
   "source": [
    "The best accuracy is 0.59 with 1 neighbor."
   ]
  },
  {
   "cell_type": "markdown",
   "metadata": {},
   "source": [
    "**Question for part 3**: With sparse data, does the use of a KDTree representation make sense? Why or Why not?"
   ]
  },
  {
   "cell_type": "markdown",
   "metadata": {},
   "source": [
    "Enter your answer below:\n",
    "\n",
    "It does not make sense.  A sparse matrix contains majority 0, the data would not branch and therefore would not have any sort of a KDTree.  A lot of the blocks would have 0s in them so it would not make sense to use KDtree in that regard.\n",
    "___"
   ]
  },
  {
   "cell_type": "markdown",
   "metadata": {
    "collapsed": true
   },
   "source": [
    "_____\n",
    "## KNN extensions - Centroids\n",
    "Now lets look at a very closely related classifier to KNN, called nearest centroid. In this classifier (which is more appropriate for big data scenarios and sparse data), the training step is used to calculate the centroids for each class. These centroids are saved. Unknown attributes, at prediction time, only need to have distances calculated for each saved centroid, drastically decreasing the time required for a prediction. \n",
    "\n",
    "**Exercise for part 4**: Use the template code below to create a nearest centroid classifier. Test which metric has the best cross validated performance: Euclidean, Cosine, or Manhattan. In `scikit-learn` you can see the documentation for NearestCentroid here: \n",
    "- http://scikit-learn.org/stable/modules/generated/sklearn.neighbors.NearestCentroid.html#sklearn.neighbors.NearestCentroid\n",
    "\n",
    "and for supported distance metrics here:\n",
    "- http://scikit-learn.org/stable/modules/generated/sklearn.metrics.pairwise.distance_metrics.html#sklearn.metrics.pairwise.distance_metrics"
   ]
  },
  {
   "cell_type": "code",
   "execution_count": 26,
   "metadata": {
    "collapsed": false
   },
   "outputs": [
    {
     "name": "stderr",
     "output_type": "stream",
     "text": [
      "/anaconda3/lib/python3.7/site-packages/sklearn/neighbors/nearest_centroid.py:140: UserWarning: Averaging for metrics other than euclidean and manhattan not supported. The average is set to be the mean.\n",
      "  warnings.warn(\"Averaging for metrics other than \"\n"
     ]
    },
    {
     "name": "stdout",
     "output_type": "stream",
     "text": [
      "l1 0.30776029697719637\n",
      "l2 0.39561605091037655\n",
      "cosine 0.47516351423015735\n",
      "The best distance metric is: l1 with distance of: 0.3077\n"
     ]
    }
   ],
   "source": [
    "from sklearn.neighbors.nearest_centroid import NearestCentroid\n",
    "\n",
    "# the parameters for the nearest centroid metric to test are:\n",
    "#    l1, l2, and cosine (all are optimized)\n",
    "\n",
    "vector = ['l1', 'l2', 'cosine']\n",
    "\n",
    "for c in vector : \n",
    "    clf = NearestCentroid(metric = c)\n",
    "    clf.fit(X_train, y_train)\n",
    "    acc = clf.score (X_test, y_test)\n",
    "    #print('Accuracy of classifier with %d neighbors is: %.2f'% c,acc)\n",
    "    print(c, acc)\n",
    "    \n",
    "# fill in your code here\n",
    "\n",
    "\n",
    "print('The best distance metric is l1 with distance of:', 0.3077 )"
   ]
  },
  {
   "cell_type": "markdown",
   "metadata": {},
   "source": [
    "___\n",
    "<a id=\"naive\"></a>\n",
    "<a href=\"#top\">Back to Top</a>\n",
    "## Naive Bayes Classification\n",
    "Now let's look at the use of the Naive Bayes classifier. The 20 newsgroups dataset has 20 classes and about 130,000 features per instance. Recall that the Naive Bayes classifer calculates a posterior distribution for each possible class. Each posterior distribution is a multiplication of many conditional distributions: \n",
    "\n",
    "$${\\arg \\max}_{j} \\left(p(class=j)\\prod_{i} p(attribute=i|class=j) \\right)$$\n",
    "\n",
    "where $p(class=j)$ is the prior and $p(attribute=i|class=j)$ is the conditional probability.\n",
    "\n",
    "**Question for part 5**: With this many classes and features, how many different conditional probabilities need to be parameterized? How many priors need to be parameterized?"
   ]
  },
  {
   "cell_type": "markdown",
   "metadata": {},
   "source": [
    "Total number of conditionals: 2,602,140 <p>\n",
    "Priors need to be parameterized: 20 (1 for each class)"
   ]
  },
  {
   "cell_type": "code",
   "execution_count": 27,
   "metadata": {
    "collapsed": false
   },
   "outputs": [
    {
     "data": {
      "text/plain": [
       "2602140"
      ]
     },
     "execution_count": 27,
     "metadata": {},
     "output_type": "execute_result"
    }
   ],
   "source": [
    "# Use this space for any calculations you might want to do\n",
    "130107 * 20\n"
   ]
  },
  {
   "cell_type": "markdown",
   "metadata": {},
   "source": [
    "___\n",
    "## Naive Bayes in Scikit-learn\n",
    "Scikit has several implementations of the Naive Bayes classifier: `GaussianNB`, `MultinomialNB`, and `BernoulliNB`. Look at the documentation here: http://scikit-learn.org/stable/modules/naive_bayes.html Take a look at each implementation and then answer this question: \n",
    "\n",
    "**Questions for part 6**: \n",
    "- If the instances contain mostly continuous attributes, would it be better to use Gaussian Naive Bayes, Multinomial Naive Bayes, or Bernoulli? And Why? \n",
    "- What if the data is sparse, does this change your answer? Why or Why not?"
   ]
  },
  {
   "cell_type": "markdown",
   "metadata": {},
   "source": [
    "Enter you answer here:\n",
    "\n",
    "- Gaussian would be better for a instance containing mostly continous attributes.  For continous attributes, Bernouli probably would not be appropriate since Bernouli deals with Binary but Gaussian would work since it does well with large continous data - Central Limit Theorem could apply for a normal distribution.  Since this dataset is Sparse, having a lot of 0s, Guassian would not be practical.  \n",
    "- Yes, if the data is sparse, it does change our answer. Bernoulli and Multinomial NB would probably be better. MultinomialNB works well with classification with descrete features for example word counts for text classification. \n",
    "___"
   ]
  },
  {
   "cell_type": "markdown",
   "metadata": {},
   "source": [
    "## Naive Bayes Comparison\n",
    "For the final section of this notebook let's compare the performance of Naive Bayes for document classification. Look at the parameters for `MultinomialNB`, and `BernoulliNB` (especially `alpha` and `binarize`). \n",
    "\n",
    "**Exercise for part 7**: Using the example code below, change the parameters for each classifier and see how accurate you can make the classifiers on the test set. \n",
    "\n",
    "**Question for part 7**: Why are these implementations so fast to train? What does the `'alpha'` value control in these models (*i.e.*, how does it change the parameterizations)? "
   ]
  },
  {
   "cell_type": "code",
   "execution_count": 35,
   "metadata": {
    "collapsed": false
   },
   "outputs": [
    {
     "name": "stderr",
     "output_type": "stream",
     "text": [
      "/anaconda3/lib/python3.7/site-packages/sklearn/naive_bayes.py:472: UserWarning: alpha too small will result in numeric errors, setting alpha = 1.0e-10\n",
      "  'setting alpha = %.1e' % _ALPHA_MIN)\n"
     ]
    },
    {
     "name": "stdout",
     "output_type": "stream",
     "text": [
      "Multinomial NB alpha =  0 Accuracy is = 0.8562842496022627\n",
      "Multinomial NB alpha =  0.005 Accuracy is = 0.8829768428495669\n",
      "Multinomial NB alpha =  0.01 Accuracy is = 0.8806788050203288\n",
      "Multinomial NB alpha =  0.05 Accuracy is = 0.8531023510694714\n",
      "Multinomial NB alpha =  0.1 Accuracy is = 0.8363089977019622\n",
      "Multinomial NB alpha =  0.5 Accuracy is = 0.7613576100406576\n",
      "Multinomial NB alpha =  1 Accuracy is = 0.7097401449531554\n",
      "Multinomial NB alpha =  1.5 Accuracy is = 0.66572388191621\n",
      "Multinomial NB alpha =  2 Accuracy is = 0.632313947321902\n",
      "Multinomial NB alpha =  2.5 Accuracy is = 0.5976666077426198\n",
      "Multinomial NB alpha =  3 Accuracy is = 0.5676153438218137\n",
      "Multinomial NB alpha =  3.5 Accuracy is = 0.5395085734488244\n",
      "Multinomial NB alpha =  4 Accuracy is = 0.5131695244829415\n",
      "Multinomial NB alpha =  4.5 Accuracy is = 0.49231041187908786\n",
      "Multinomial NB alpha =  5 Accuracy is = 0.4748099699487361\n",
      "Bernoulli NB alpha =  0 Accuracy is = 0.848152731129574\n",
      "Bernoulli NB alpha =  0 Accuracy is = 0.8546933003358671\n",
      "Bernoulli NB alpha =  0 Accuracy is = 0.8612338695421602\n",
      "Bernoulli NB alpha =  0 Accuracy is = 0.817571150786636\n",
      "Bernoulli NB alpha =  0 Accuracy is = 0.6729715396853456\n",
      "Bernoulli NB alpha =  0 Accuracy is = 0.07601202050556832\n",
      "Bernoulli NB alpha =  0 Accuracy is = 0.0530316422131872\n",
      "Bernoulli NB alpha =  0 Accuracy is = 0.0530316422131872\n",
      "Bernoulli NB alpha =  0 Accuracy is = 0.0530316422131872\n",
      "Bernoulli NB alpha =  0 Accuracy is = 0.0530316422131872\n",
      "Bernoulli NB alpha =  0 Accuracy is = 0.0530316422131872\n",
      "Bernoulli NB alpha =  0 Accuracy is = 0.0530316422131872\n",
      "Bernoulli NB alpha =  0 Accuracy is = 0.0530316422131872\n",
      "Bernoulli NB alpha =  0 Accuracy is = 0.0530316422131872\n",
      "Bernoulli NB alpha =  0 Accuracy is = 0.0530316422131872\n",
      "Bernoulli NB alpha =  0.005 Accuracy is = 0.8253491249779035\n",
      "Bernoulli NB alpha =  0.005 Accuracy is = 0.8391373519533322\n",
      "Bernoulli NB alpha =  0.005 Accuracy is = 0.8587590595722114\n",
      "Bernoulli NB alpha =  0.005 Accuracy is = 0.8333038713098816\n",
      "Bernoulli NB alpha =  0.005 Accuracy is = 0.684992045253668\n",
      "Bernoulli NB alpha =  0.005 Accuracy is = 0.07636556478698957\n",
      "Bernoulli NB alpha =  0.005 Accuracy is = 0.0530316422131872\n",
      "Bernoulli NB alpha =  0.005 Accuracy is = 0.0530316422131872\n",
      "Bernoulli NB alpha =  0.005 Accuracy is = 0.0530316422131872\n",
      "Bernoulli NB alpha =  0.005 Accuracy is = 0.0530316422131872\n",
      "Bernoulli NB alpha =  0.005 Accuracy is = 0.0530316422131872\n",
      "Bernoulli NB alpha =  0.005 Accuracy is = 0.0530316422131872\n",
      "Bernoulli NB alpha =  0.005 Accuracy is = 0.0530316422131872\n",
      "Bernoulli NB alpha =  0.005 Accuracy is = 0.0530316422131872\n",
      "Bernoulli NB alpha =  0.005 Accuracy is = 0.0530316422131872\n",
      "Bernoulli NB alpha =  0.01 Accuracy is = 0.8205762771787166\n",
      "Bernoulli NB alpha =  0.01 Accuracy is = 0.8348948205762772\n",
      "Bernoulli NB alpha =  0.01 Accuracy is = 0.8564610217429733\n",
      "Bernoulli NB alpha =  0.01 Accuracy is = 0.8350715927169878\n",
      "Bernoulli NB alpha =  0.01 Accuracy is = 0.6851688173943786\n",
      "Bernoulli NB alpha =  0.01 Accuracy is = 0.0692946791585646\n",
      "Bernoulli NB alpha =  0.01 Accuracy is = 0.0530316422131872\n",
      "Bernoulli NB alpha =  0.01 Accuracy is = 0.0530316422131872\n",
      "Bernoulli NB alpha =  0.01 Accuracy is = 0.0530316422131872\n",
      "Bernoulli NB alpha =  0.01 Accuracy is = 0.0530316422131872\n",
      "Bernoulli NB alpha =  0.01 Accuracy is = 0.0530316422131872\n",
      "Bernoulli NB alpha =  0.01 Accuracy is = 0.0530316422131872\n",
      "Bernoulli NB alpha =  0.01 Accuracy is = 0.0530316422131872\n",
      "Bernoulli NB alpha =  0.01 Accuracy is = 0.0530316422131872\n",
      "Bernoulli NB alpha =  0.01 Accuracy is = 0.0530316422131872\n",
      "Bernoulli NB alpha =  0.05 Accuracy is = 0.8020152024041011\n",
      "Bernoulli NB alpha =  0.05 Accuracy is = 0.8198691886158741\n",
      "Bernoulli NB alpha =  0.05 Accuracy is = 0.8446172883153615\n",
      "Bernoulli NB alpha =  0.05 Accuracy is = 0.8257026692593248\n",
      "Bernoulli NB alpha =  0.05 Accuracy is = 0.6678451476047375\n",
      "Bernoulli NB alpha =  0.05 Accuracy is = 0.06469860350008838\n",
      "Bernoulli NB alpha =  0.05 Accuracy is = 0.0530316422131872\n",
      "Bernoulli NB alpha =  0.05 Accuracy is = 0.0530316422131872\n",
      "Bernoulli NB alpha =  0.05 Accuracy is = 0.0530316422131872\n",
      "Bernoulli NB alpha =  0.05 Accuracy is = 0.0530316422131872\n",
      "Bernoulli NB alpha =  0.05 Accuracy is = 0.0530316422131872\n",
      "Bernoulli NB alpha =  0.05 Accuracy is = 0.0530316422131872\n",
      "Bernoulli NB alpha =  0.05 Accuracy is = 0.0530316422131872\n",
      "Bernoulli NB alpha =  0.05 Accuracy is = 0.0530316422131872\n",
      "Bernoulli NB alpha =  0.05 Accuracy is = 0.0530316422131872\n",
      "Bernoulli NB alpha =  0.1 Accuracy is = 0.7912321018207531\n",
      "Bernoulli NB alpha =  0.1 Accuracy is = 0.8074951387661304\n",
      "Bernoulli NB alpha =  0.1 Accuracy is = 0.835425136998409\n",
      "Bernoulli NB alpha =  0.1 Accuracy is = 0.8085557716103942\n",
      "Bernoulli NB alpha =  0.1 Accuracy is = 0.631430086618349\n",
      "Bernoulli NB alpha =  0.1 Accuracy is = 0.06416828707795652\n",
      "Bernoulli NB alpha =  0.1 Accuracy is = 0.0530316422131872\n",
      "Bernoulli NB alpha =  0.1 Accuracy is = 0.0530316422131872\n",
      "Bernoulli NB alpha =  0.1 Accuracy is = 0.0530316422131872\n",
      "Bernoulli NB alpha =  0.1 Accuracy is = 0.0530316422131872\n",
      "Bernoulli NB alpha =  0.1 Accuracy is = 0.0530316422131872\n",
      "Bernoulli NB alpha =  0.1 Accuracy is = 0.0530316422131872\n",
      "Bernoulli NB alpha =  0.1 Accuracy is = 0.0530316422131872\n",
      "Bernoulli NB alpha =  0.1 Accuracy is = 0.0530316422131872\n",
      "Bernoulli NB alpha =  0.1 Accuracy is = 0.0530316422131872\n",
      "Bernoulli NB alpha =  0.5 Accuracy is = 0.6964822343998586\n",
      "Bernoulli NB alpha =  0.5 Accuracy is = 0.7229980555064521\n",
      "Bernoulli NB alpha =  0.5 Accuracy is = 0.7631253314477638\n",
      "Bernoulli NB alpha =  0.5 Accuracy is = 0.6844617288315361\n",
      "Bernoulli NB alpha =  0.5 Accuracy is = 0.4650875022096518\n",
      "Bernoulli NB alpha =  0.5 Accuracy is = 0.053561958635319075\n",
      "Bernoulli NB alpha =  0.5 Accuracy is = 0.0530316422131872\n",
      "Bernoulli NB alpha =  0.5 Accuracy is = 0.0530316422131872\n",
      "Bernoulli NB alpha =  0.5 Accuracy is = 0.0530316422131872\n",
      "Bernoulli NB alpha =  0.5 Accuracy is = 0.0530316422131872\n",
      "Bernoulli NB alpha =  0.5 Accuracy is = 0.0530316422131872\n",
      "Bernoulli NB alpha =  0.5 Accuracy is = 0.0530316422131872\n",
      "Bernoulli NB alpha =  0.5 Accuracy is = 0.0530316422131872\n",
      "Bernoulli NB alpha =  0.5 Accuracy is = 0.0530316422131872\n",
      "Bernoulli NB alpha =  0.5 Accuracy is = 0.0530316422131872\n",
      "Bernoulli NB alpha =  1 Accuracy is = 0.6282481880855577\n",
      "Bernoulli NB alpha =  1 Accuracy is = 0.6526427435036238\n",
      "Bernoulli NB alpha =  1 Accuracy is = 0.6982499558069648\n",
      "Bernoulli NB alpha =  1 Accuracy is = 0.5752165458723705\n",
      "Bernoulli NB alpha =  1 Accuracy is = 0.34417535796358495\n",
      "Bernoulli NB alpha =  1 Accuracy is = 0.05338518649460845\n",
      "Bernoulli NB alpha =  1 Accuracy is = 0.0530316422131872\n",
      "Bernoulli NB alpha =  1 Accuracy is = 0.0530316422131872\n",
      "Bernoulli NB alpha =  1 Accuracy is = 0.0530316422131872\n",
      "Bernoulli NB alpha =  1 Accuracy is = 0.0530316422131872\n",
      "Bernoulli NB alpha =  1 Accuracy is = 0.0530316422131872\n",
      "Bernoulli NB alpha =  1 Accuracy is = 0.0530316422131872\n",
      "Bernoulli NB alpha =  1 Accuracy is = 0.0530316422131872\n",
      "Bernoulli NB alpha =  1 Accuracy is = 0.0530316422131872\n",
      "Bernoulli NB alpha =  1 Accuracy is = 0.0530316422131872\n",
      "Bernoulli NB alpha =  1.5 Accuracy is = 0.5868835071592717\n",
      "Bernoulli NB alpha =  1.5 Accuracy is = 0.6105709740144953\n",
      "Bernoulli NB alpha =  1.5 Accuracy is = 0.661481350539155\n",
      "Bernoulli NB alpha =  1.5 Accuracy is = 0.49036591833127097\n",
      "Bernoulli NB alpha =  1.5 Accuracy is = 0.26020859112603856\n",
      "Bernoulli NB alpha =  1.5 Accuracy is = 0.0530316422131872\n",
      "Bernoulli NB alpha =  1.5 Accuracy is = 0.0530316422131872\n",
      "Bernoulli NB alpha =  1.5 Accuracy is = 0.0530316422131872\n",
      "Bernoulli NB alpha =  1.5 Accuracy is = 0.0530316422131872\n",
      "Bernoulli NB alpha =  1.5 Accuracy is = 0.0530316422131872\n",
      "Bernoulli NB alpha =  1.5 Accuracy is = 0.0530316422131872\n",
      "Bernoulli NB alpha =  1.5 Accuracy is = 0.0530316422131872\n",
      "Bernoulli NB alpha =  1.5 Accuracy is = 0.0530316422131872\n",
      "Bernoulli NB alpha =  1.5 Accuracy is = 0.0530316422131872\n",
      "Bernoulli NB alpha =  1.5 Accuracy is = 0.0530316422131872\n",
      "Bernoulli NB alpha =  2 Accuracy is = 0.5513523068764363\n",
      "Bernoulli NB alpha =  2 Accuracy is = 0.5743326851688174\n",
      "Bernoulli NB alpha =  2 Accuracy is = 0.6263036945377408\n",
      "Bernoulli NB alpha =  2 Accuracy is = 0.4249602262683401\n",
      "Bernoulli NB alpha =  2 Accuracy is = 0.20735372105356195\n",
      "Bernoulli NB alpha =  2 Accuracy is = 0.0530316422131872\n",
      "Bernoulli NB alpha =  2 Accuracy is = 0.0530316422131872\n",
      "Bernoulli NB alpha =  2 Accuracy is = 0.0530316422131872\n",
      "Bernoulli NB alpha =  2 Accuracy is = 0.0530316422131872\n",
      "Bernoulli NB alpha =  2 Accuracy is = 0.0530316422131872\n",
      "Bernoulli NB alpha =  2 Accuracy is = 0.0530316422131872\n",
      "Bernoulli NB alpha =  2 Accuracy is = 0.0530316422131872\n",
      "Bernoulli NB alpha =  2 Accuracy is = 0.0530316422131872\n",
      "Bernoulli NB alpha =  2 Accuracy is = 0.0530316422131872\n",
      "Bernoulli NB alpha =  2 Accuracy is = 0.0530316422131872\n",
      "Bernoulli NB alpha =  2.5 Accuracy is = 0.5234223086441577\n",
      "Bernoulli NB alpha =  2.5 Accuracy is = 0.5456955983736963\n",
      "Bernoulli NB alpha =  2.5 Accuracy is = 0.5943079370691179\n",
      "Bernoulli NB alpha =  2.5 Accuracy is = 0.37228212833657415\n",
      "Bernoulli NB alpha =  2.5 Accuracy is = 0.17341347003712215\n",
      "Bernoulli NB alpha =  2.5 Accuracy is = 0.0530316422131872\n",
      "Bernoulli NB alpha =  2.5 Accuracy is = 0.0530316422131872\n",
      "Bernoulli NB alpha =  2.5 Accuracy is = 0.0530316422131872\n",
      "Bernoulli NB alpha =  2.5 Accuracy is = 0.0530316422131872\n",
      "Bernoulli NB alpha =  2.5 Accuracy is = 0.0530316422131872\n",
      "Bernoulli NB alpha =  2.5 Accuracy is = 0.0530316422131872\n",
      "Bernoulli NB alpha =  2.5 Accuracy is = 0.0530316422131872\n",
      "Bernoulli NB alpha =  2.5 Accuracy is = 0.0530316422131872\n",
      "Bernoulli NB alpha =  2.5 Accuracy is = 0.0530316422131872\n",
      "Bernoulli NB alpha =  2.5 Accuracy is = 0.0530316422131872\n",
      "Bernoulli NB alpha =  3 Accuracy is = 0.4972600318189853\n",
      "Bernoulli NB alpha =  3 Accuracy is = 0.5174120558599965\n",
      "Bernoulli NB alpha =  3 Accuracy is = 0.5692062930882092\n",
      "Bernoulli NB alpha =  3 Accuracy is = 0.32738200459607564\n",
      "Bernoulli NB alpha =  3 Accuracy is = 0.15007954746331978\n",
      "Bernoulli NB alpha =  3 Accuracy is = 0.0530316422131872\n",
      "Bernoulli NB alpha =  3 Accuracy is = 0.0530316422131872\n",
      "Bernoulli NB alpha =  3 Accuracy is = 0.0530316422131872\n",
      "Bernoulli NB alpha =  3 Accuracy is = 0.0530316422131872\n",
      "Bernoulli NB alpha =  3 Accuracy is = 0.0530316422131872\n",
      "Bernoulli NB alpha =  3 Accuracy is = 0.0530316422131872\n",
      "Bernoulli NB alpha =  3 Accuracy is = 0.0530316422131872\n",
      "Bernoulli NB alpha =  3 Accuracy is = 0.0530316422131872\n",
      "Bernoulli NB alpha =  3 Accuracy is = 0.0530316422131872\n",
      "Bernoulli NB alpha =  3 Accuracy is = 0.0530316422131872\n",
      "Bernoulli NB alpha =  3.5 Accuracy is = 0.46879971716457486\n",
      "Bernoulli NB alpha =  3.5 Accuracy is = 0.488951741205586\n",
      "Bernoulli NB alpha =  3.5 Accuracy is = 0.5382711684638501\n",
      "Bernoulli NB alpha =  3.5 Accuracy is = 0.2891992222025809\n",
      "Bernoulli NB alpha =  3.5 Accuracy is = 0.1309881562665724\n",
      "Bernoulli NB alpha =  3.5 Accuracy is = 0.0530316422131872\n",
      "Bernoulli NB alpha =  3.5 Accuracy is = 0.0530316422131872\n",
      "Bernoulli NB alpha =  3.5 Accuracy is = 0.0530316422131872\n",
      "Bernoulli NB alpha =  3.5 Accuracy is = 0.0530316422131872\n",
      "Bernoulli NB alpha =  3.5 Accuracy is = 0.0530316422131872\n",
      "Bernoulli NB alpha =  3.5 Accuracy is = 0.0530316422131872\n",
      "Bernoulli NB alpha =  3.5 Accuracy is = 0.0530316422131872\n",
      "Bernoulli NB alpha =  3.5 Accuracy is = 0.0530316422131872\n",
      "Bernoulli NB alpha =  3.5 Accuracy is = 0.0530316422131872\n",
      "Bernoulli NB alpha =  3.5 Accuracy is = 0.0530316422131872\n",
      "Bernoulli NB alpha =  4 Accuracy is = 0.4424606681986919\n",
      "Bernoulli NB alpha =  4 Accuracy is = 0.46137528725472865\n",
      "Bernoulli NB alpha =  4 Accuracy is = 0.5121088916386778\n",
      "Bernoulli NB alpha =  4 Accuracy is = 0.2575570090153792\n",
      "Bernoulli NB alpha =  4 Accuracy is = 0.11808378999469683\n",
      "Bernoulli NB alpha =  4 Accuracy is = 0.0530316422131872\n",
      "Bernoulli NB alpha =  4 Accuracy is = 0.0530316422131872\n",
      "Bernoulli NB alpha =  4 Accuracy is = 0.0530316422131872\n",
      "Bernoulli NB alpha =  4 Accuracy is = 0.0530316422131872\n",
      "Bernoulli NB alpha =  4 Accuracy is = 0.0530316422131872\n",
      "Bernoulli NB alpha =  4 Accuracy is = 0.0530316422131872\n",
      "Bernoulli NB alpha =  4 Accuracy is = 0.0530316422131872\n",
      "Bernoulli NB alpha =  4 Accuracy is = 0.0530316422131872\n",
      "Bernoulli NB alpha =  4 Accuracy is = 0.0530316422131872\n",
      "Bernoulli NB alpha =  4 Accuracy is = 0.0530316422131872\n",
      "Bernoulli NB alpha =  4.5 Accuracy is = 0.4166519356549408\n",
      "Bernoulli NB alpha =  4.5 Accuracy is = 0.4382181368216369\n",
      "Bernoulli NB alpha =  4.5 Accuracy is = 0.48294148842142476\n",
      "Bernoulli NB alpha =  4.5 Accuracy is = 0.22644511225030936\n",
      "Bernoulli NB alpha =  4.5 Accuracy is = 0.10482587944140004\n",
      "Bernoulli NB alpha =  4.5 Accuracy is = 0.0530316422131872\n",
      "Bernoulli NB alpha =  4.5 Accuracy is = 0.0530316422131872\n",
      "Bernoulli NB alpha =  4.5 Accuracy is = 0.0530316422131872\n",
      "Bernoulli NB alpha =  4.5 Accuracy is = 0.0530316422131872\n",
      "Bernoulli NB alpha =  4.5 Accuracy is = 0.0530316422131872\n",
      "Bernoulli NB alpha =  4.5 Accuracy is = 0.0530316422131872\n",
      "Bernoulli NB alpha =  4.5 Accuracy is = 0.0530316422131872\n",
      "Bernoulli NB alpha =  4.5 Accuracy is = 0.0530316422131872\n",
      "Bernoulli NB alpha =  4.5 Accuracy is = 0.0530316422131872\n",
      "Bernoulli NB alpha =  4.5 Accuracy is = 0.0530316422131872\n",
      "Bernoulli NB alpha =  5 Accuracy is = 0.38942902598550466\n",
      "Bernoulli NB alpha =  5 Accuracy is = 0.40993459430793705\n",
      "Bernoulli NB alpha =  5 Accuracy is = 0.4535973130634612\n",
      "Bernoulli NB alpha =  5 Accuracy is = 0.20328796181721762\n",
      "Bernoulli NB alpha =  5 Accuracy is = 0.09298214601378822\n",
      "Bernoulli NB alpha =  5 Accuracy is = 0.0530316422131872\n",
      "Bernoulli NB alpha =  5 Accuracy is = 0.0530316422131872\n",
      "Bernoulli NB alpha =  5 Accuracy is = 0.0530316422131872\n",
      "Bernoulli NB alpha =  5 Accuracy is = 0.0530316422131872\n",
      "Bernoulli NB alpha =  5 Accuracy is = 0.0530316422131872\n",
      "Bernoulli NB alpha =  5 Accuracy is = 0.0530316422131872\n",
      "Bernoulli NB alpha =  5 Accuracy is = 0.0530316422131872\n",
      "Bernoulli NB alpha =  5 Accuracy is = 0.0530316422131872\n",
      "Bernoulli NB alpha =  5 Accuracy is = 0.0530316422131872\n",
      "Bernoulli NB alpha =  5 Accuracy is = 0.0530316422131872\n",
      "These classifiers are so fast because... Placeholder\n",
      "The alpha values control... Placeholder\n"
     ]
    }
   ],
   "source": [
    "from sklearn.naive_bayes import MultinomialNB\n",
    "from sklearn.naive_bayes import BernoulliNB\n",
    "\n",
    "for j in [0, .005,  .01, .05, .1, .5, 1, 1.5, 2, 2.5, 3, 3.5, 4, 4.5, 5] : \n",
    "    clf_mnb = MultinomialNB(alpha = j)\n",
    "    clf_mnb.fit (X_train, y_train)\n",
    "    acc = clf_mnb.score(X_test, y_test)\n",
    "    print (\"Multinomial NB alpha = \", j, \"Accuracy is =\", acc)\n",
    "\n",
    "for k in [0, .005,  .01, .05, .1, .5, 1, 1.5, 2, 2.5, 3, 3.5, 4, 4.5, 5] :   \n",
    "    for m in [0, .005,  .01, .05, .1, .5, 1, 1.5, 2, 2.5, 3, 3.5, 4, 4.5, 5] : \n",
    "        clf_bnb = BernoulliNB(alpha=k, binarize=m)\n",
    "        clf_bnb.fit (X_train, y_train)\n",
    "        acc = clf_bnb.score(X_test, y_test)\n",
    "        print (\"Bernoulli NB alpha = \", k, \"Accuracy is =\", acc)\n",
    "\n",
    "\n",
    "# fill in your code here\n",
    "\n",
    "            \n",
    "print('These classifiers are so fast because...', p)\n",
    "print('The alpha values control...', p)\n"
   ]
  },
  {
   "cell_type": "markdown",
   "metadata": {
    "collapsed": true
   },
   "source": [
    "________________________________________________________________________________________________________\n",
    "\n",
    "That's all! Please **upload your rendered notebook to blackboard** and please include **team member names** in the notebook submission."
   ]
  },
  {
   "cell_type": "code",
   "execution_count": null,
   "metadata": {
    "collapsed": true
   },
   "outputs": [],
   "source": []
  }
 ],
 "metadata": {
  "anaconda-cloud": {},
  "kernelspec": {
   "display_name": "Python [default]",
   "language": "python",
   "name": "python3"
  },
  "language_info": {
   "codemirror_mode": {
    "name": "ipython",
    "version": 3
   },
   "file_extension": ".py",
   "mimetype": "text/x-python",
   "name": "python",
   "nbconvert_exporter": "python",
   "pygments_lexer": "ipython3",
   "version": "3.5.2"
  }
 },
 "nbformat": 4,
 "nbformat_minor": 1
}
