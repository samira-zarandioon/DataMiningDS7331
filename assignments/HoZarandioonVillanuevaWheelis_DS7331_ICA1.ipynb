{
 "cells": [
  {
   "cell_type": "code",
   "execution_count": 1,
   "metadata": {},
   "outputs": [
    {
     "data": {
      "text/html": [
       "<link href='https://fonts.googleapis.com/css?family=Passion+One' rel='stylesheet' type='text/css'><style>div.attn { font-family: 'Helvetica Neue'; font-size: 30px; line-height: 40px; color: #FFFFFF; text-align: center; margin: 30px 0; border-width: 10px 0; border-style: solid; border-color: #5AAAAA; padding: 30px 0; background-color: #DDDDFF; }hr { border: 0; background-color: #ffffff; border-top: 1px solid black; }hr.major { border-top: 10px solid #5AAA5A; }hr.minor { border: none; background-color: #ffffff; border-top: 5px dotted #CC3333; }div.bubble { width: 65%; padding: 20px; background: #DDDDDD; border-radius: 15px; margin: 0 auto; font-style: italic; color: #f00; }em { color: #AAA; }div.c1{visibility:hidden;margin:0;height:0;}div.note{color:red;}</style>"
      ],
      "text/plain": [
       "<IPython.core.display.HTML object>"
      ]
     },
     "execution_count": 1,
     "metadata": {},
     "output_type": "execute_result"
    }
   ],
   "source": [
    "#  Ebnable HTML/CSS \n",
    "from IPython.core.display import HTML\n",
    "HTML(\"<link href='https://fonts.googleapis.com/css?family=Passion+One' rel='stylesheet' type='text/css'><style>div.attn { font-family: 'Helvetica Neue'; font-size: 30px; line-height: 40px; color: #FFFFFF; text-align: center; margin: 30px 0; border-width: 10px 0; border-style: solid; border-color: #5AAAAA; padding: 30px 0; background-color: #DDDDFF; }hr { border: 0; background-color: #ffffff; border-top: 1px solid black; }hr.major { border-top: 10px solid #5AAA5A; }hr.minor { border: none; background-color: #ffffff; border-top: 5px dotted #CC3333; }div.bubble { width: 65%; padding: 20px; background: #DDDDDD; border-radius: 15px; margin: 0 auto; font-style: italic; color: #f00; }em { color: #AAA; }div.c1{visibility:hidden;margin:0;height:0;}div.note{color:red;}</style>\")"
   ]
  },
  {
   "cell_type": "markdown",
   "metadata": {},
   "source": [
    "___\n",
    "Enter Team Member Names here (double click to edit):\n",
    "\n",
    "- Name 1: Andy Ho\n",
    "- Name 2: Samira Zarandioon\n",
    "- Name 3: Jaime Villanueva\n",
    "- Name 3: Tori Wheelis"
   ]
  },
  {
   "cell_type": "markdown",
   "metadata": {},
   "source": [
    "# In Class Assignment One\n",
    "In the following assignment you will be asked to fill in python code and derivations for a number of different problems. Please read all instructions carefully and turn in the rendered notebook (or HTML of the rendered notebook)  before the end of class (or right after class). The initial portion of this notebook is given before class and the remainder is given during class. Please answer the initial questions before class. Once class has started you may rework your answers as a team for the initial part of the assignment. \n",
    "\n",
    "<a id=\"top\"></a>\n",
    "## Contents\n",
    "* <a href=\"#Loading\">Loading the Data</a>\n",
    "* <a href=\"#linearnumpy\">Linear Regression</a>\n",
    "* <a href=\"#sklearn\">Using Scikit Learn for Regression</a>\n",
    "* <a href=\"#classification\">Linear Classification</a>\n",
    "\n",
    "________________________________________________________________________________________________________\n",
    "\n",
    "<a id=\"Loading\"></a>\n",
    "<a href=\"#top\">Back to Top</a>\n",
    "## Loading the Data\n",
    "Please run the following code to read in the \"diabetes\" dataset from sklearn's data loading module. \n",
    "\n",
    "This will load the data into the variable `ds`. `ds` is a dictionary object with fields like `ds.data`, which is a matrix of the continuous features in the dataset. The object is not a pandas dataframe. It is a numpy matrix. Each row is a set of observed instances, each column is a different feature. It also has a field called `ds.target` that is a continuous value we are trying to predict. Each entry in `ds.target` is a label for each row of the `ds.data` matrix. "
   ]
  },
  {
   "cell_type": "code",
   "execution_count": 2,
   "metadata": {},
   "outputs": [
    {
     "name": "stdout",
     "output_type": "stream",
     "text": [
      "features shape: (442, 10) format is: ('rows', 'columns')\n",
      "range of target: 25.0 346.0\n"
     ]
    }
   ],
   "source": [
    "from __future__ import print_function\n",
    "from sklearn.datasets import load_diabetes\n",
    "import numpy as np\n",
    "\n",
    "ds = load_diabetes()\n",
    "\n",
    "# this holds the continuous feature data\n",
    "# because ds.data is a matrix, there are some special properties we can access (like 'shape')\n",
    "print('features shape:', ds.data.shape, 'format is:', ('rows','columns')) # there are 442 instances and 10 features per instance\n",
    "print('range of target:', np.min(ds.target),np.max(ds.target))"
   ]
  },
  {
   "cell_type": "code",
   "execution_count": 3,
   "metadata": {
    "scrolled": true
   },
   "outputs": [
    {
     "name": "stdout",
     "output_type": "stream",
     "text": [
      "array([[ 0.03807591,  0.05068012,  0.06169621, ..., -0.00259226,\n",
      "         0.01990842, -0.01764613],\n",
      "       [-0.00188202, -0.04464164, -0.05147406, ..., -0.03949338,\n",
      "        -0.06832974, -0.09220405],\n",
      "       [ 0.08529891,  0.05068012,  0.04445121, ..., -0.00259226,\n",
      "         0.00286377, -0.02593034],\n",
      "       ...,\n",
      "       [ 0.04170844,  0.05068012, -0.01590626, ..., -0.01107952,\n",
      "        -0.04687948,  0.01549073],\n",
      "       [-0.04547248, -0.04464164,  0.03906215, ...,  0.02655962,\n",
      "         0.04452837, -0.02593034],\n",
      "       [-0.04547248, -0.04464164, -0.0730303 , ..., -0.03949338,\n",
      "        -0.00421986,  0.00306441]])\n",
      "array([151.,  75., 141., 206., 135.,  97., 138.,  63., 110., 310., 101.,\n",
      "        69., 179., 185., 118., 171., 166., 144.,  97., 168.,  68.,  49.,\n",
      "        68., 245., 184., 202., 137.,  85., 131., 283., 129.,  59., 341.,\n",
      "        87.,  65., 102., 265., 276., 252.,  90., 100.,  55.,  61.,  92.,\n",
      "       259.,  53., 190., 142.,  75., 142., 155., 225.,  59., 104., 182.,\n",
      "       128.,  52.,  37., 170., 170.,  61., 144.,  52., 128.,  71., 163.,\n",
      "       150.,  97., 160., 178.,  48., 270., 202., 111.,  85.,  42., 170.,\n",
      "       200., 252., 113., 143.,  51.,  52., 210.,  65., 141.,  55., 134.,\n",
      "        42., 111.,  98., 164.,  48.,  96.,  90., 162., 150., 279.,  92.,\n",
      "        83., 128., 102., 302., 198.,  95.,  53., 134., 144., 232.,  81.,\n",
      "       104.,  59., 246., 297., 258., 229., 275., 281., 179., 200., 200.,\n",
      "       173., 180.,  84., 121., 161.,  99., 109., 115., 268., 274., 158.,\n",
      "       107.,  83., 103., 272.,  85., 280., 336., 281., 118., 317., 235.,\n",
      "        60., 174., 259., 178., 128.,  96., 126., 288.,  88., 292.,  71.,\n",
      "       197., 186.,  25.,  84.,  96., 195.,  53., 217., 172., 131., 214.,\n",
      "        59.,  70., 220., 268., 152.,  47.,  74., 295., 101., 151., 127.,\n",
      "       237., 225.,  81., 151., 107.,  64., 138., 185., 265., 101., 137.,\n",
      "       143., 141.,  79., 292., 178.,  91., 116.,  86., 122.,  72., 129.,\n",
      "       142.,  90., 158.,  39., 196., 222., 277.,  99., 196., 202., 155.,\n",
      "        77., 191.,  70.,  73.,  49.,  65., 263., 248., 296., 214., 185.,\n",
      "        78.,  93., 252., 150.,  77., 208.,  77., 108., 160.,  53., 220.,\n",
      "       154., 259.,  90., 246., 124.,  67.,  72., 257., 262., 275., 177.,\n",
      "        71.,  47., 187., 125.,  78.,  51., 258., 215., 303., 243.,  91.,\n",
      "       150., 310., 153., 346.,  63.,  89.,  50.,  39., 103., 308., 116.,\n",
      "       145.,  74.,  45., 115., 264.,  87., 202., 127., 182., 241.,  66.,\n",
      "        94., 283.,  64., 102., 200., 265.,  94., 230., 181., 156., 233.,\n",
      "        60., 219.,  80.,  68., 332., 248.,  84., 200.,  55.,  85.,  89.,\n",
      "        31., 129.,  83., 275.,  65., 198., 236., 253., 124.,  44., 172.,\n",
      "       114., 142., 109., 180., 144., 163., 147.,  97., 220., 190., 109.,\n",
      "       191., 122., 230., 242., 248., 249., 192., 131., 237.,  78., 135.,\n",
      "       244., 199., 270., 164.,  72.,  96., 306.,  91., 214.,  95., 216.,\n",
      "       263., 178., 113., 200., 139., 139.,  88., 148.,  88., 243.,  71.,\n",
      "        77., 109., 272.,  60.,  54., 221.,  90., 311., 281., 182., 321.,\n",
      "        58., 262., 206., 233., 242., 123., 167.,  63., 197.,  71., 168.,\n",
      "       140., 217., 121., 235., 245.,  40.,  52., 104., 132.,  88.,  69.,\n",
      "       219.,  72., 201., 110.,  51., 277.,  63., 118.,  69., 273., 258.,\n",
      "        43., 198., 242., 232., 175.,  93., 168., 275., 293., 281.,  72.,\n",
      "       140., 189., 181., 209., 136., 261., 113., 131., 174., 257.,  55.,\n",
      "        84.,  42., 146., 212., 233.,  91., 111., 152., 120.,  67., 310.,\n",
      "        94., 183.,  66., 173.,  72.,  49.,  64.,  48., 178., 104., 132.,\n",
      "       220.,  57.])\n"
     ]
    }
   ],
   "source": [
    "from pprint import pprint\n",
    "\n",
    "# we can set the fields inside of ds and set them to new variables in python\n",
    "pprint(ds.data) # prints out elements of the matrix\n",
    "pprint(ds.target) # prints the vector (all 442 items)"
   ]
  },
  {
   "cell_type": "markdown",
   "metadata": {},
   "source": [
    "________________________________________________________________________________________________________\n",
    "<a id=\"linearnumpy\"></a>\n",
    "<a href=\"#top\">Back to Top</a>\n",
    "## Using Linear Regression \n",
    "In the videos, we derived the formula for calculating the optimal values of the regression weights (you must be connected to the internet for this equation to show up properly):\n",
    "\n",
    "$$ w = (X^TX)^{-1}X^Ty $$\n",
    "\n",
    "where $X$ is the matrix of values with a bias column of ones appended onto it. For the diabetes dataset one could construct this $X$ matrix by stacking a column of ones onto the `ds.data` matrix. \n",
    "\n",
    "$$ X=\\begin{bmatrix}\n",
    "         & \\vdots &        &  1 \\\\\n",
    "        \\dotsb & \\text{ds.data} & \\dotsb &  \\vdots\\\\\n",
    "         & \\vdots &         &  1\\\\\n",
    "     \\end{bmatrix}\n",
    "$$\n",
    "\n",
    "**Question 1:** For the diabetes dataset, how many elements will the vector $w$ contain?"
   ]
  },
  {
   "cell_type": "code",
   "execution_count": 4,
   "metadata": {},
   "outputs": [
    {
     "name": "stdout",
     "output_type": "stream",
     "text": [
      "Question 1: Vector w has 11 elements.\n"
     ]
    }
   ],
   "source": [
    "# Enter your answer here (or write code to calculate it)\n",
    "\n",
    "#selecting the element at first index and add by 1 for the column of 1's\n",
    "elements = ds.data.shape[1] + 1\n",
    "print('Question 1: Vector w has', elements, 'elements.')"
   ]
  },
  {
   "cell_type": "markdown",
   "metadata": {},
   "source": [
    "#### Question 1: For the diabetes dataset, how many elements will the vector 𝑤 contain?\n",
    "\n",
    "Answer: 11"
   ]
  },
  {
   "cell_type": "markdown",
   "metadata": {},
   "source": [
    "________________________________________________________________________________________________________\n",
    "\n",
    "**Exercise 1:** In the following empty cell, use this equation and numpy matrix operations to find the values of the vector $w$. You will need to be sure $X$ and $y$ are created like the instructor talked about in the video. Don't forget to include any modifications to $X$ to account for the bias term in $w$. You might be interested in the following functions:\n",
    "\n",
    "- `np.hstack((mat1,mat2))` stack two matrices horizontally, to create a new matrix\n",
    "- `np.ones((rows,cols))` create a matrix full of ones\n",
    "- `my_mat.T` takes transpose of numpy matrix named `my_mat`\n",
    "- `np.dot(mat1,mat2)` is matrix multiplication for two matrices\n",
    "- `np.linalg.inv(mat)` gets the inverse of the variable `mat`"
   ]
  },
  {
   "cell_type": "code",
   "execution_count": 5,
   "metadata": {},
   "outputs": [
    {
     "name": "stdout",
     "output_type": "stream",
     "text": [
      "Regression Weights:\n",
      "[ -10.01 -239.82  519.84  324.39 -792.18  476.75  101.04  177.06  751.28\n",
      "   67.63  152.13]\n"
     ]
    }
   ],
   "source": [
    "# Write you code here, print the values of the regression weights using the 'print()' function in python\n",
    "\n",
    "y = ds.target\n",
    "X = ds.data\n",
    "\n",
    "bias = np.ones((len(ds.target),1)) #create column of 1's\n",
    "X = np.hstack((ds.data, bias))     #stick column of ones onto data matrix\n",
    "\n",
    "\n",
    "w = np.dot(np.dot(np.linalg.inv(np.dot(X.T, X)), X.T), y) # applying the formula for the weights w\n",
    "\n",
    "print(\"Regression Weights:\")\n",
    "print(np.round(w, 2))"
   ]
  },
  {
   "cell_type": "markdown",
   "metadata": {},
   "source": [
    "\n",
    "___\n",
    "<a id=\"sklearn\"></a>\n",
    "<a href=\"#top\">Back to Top</a>\n",
    "# Start of Live Session Coding\n",
    "\n",
    "**Exercise 2:** Scikit-learn also has a linear regression fitting implementation. Look at the scikit learn API and learn to use the linear regression method. The API is here: \n",
    "\n",
    "- API Reference: http://scikit-learn.org/stable/modules/generated/sklearn.linear_model.LinearRegression.html\n",
    "\n",
    "Use the sklearn `LinearRegression` module to check your results from the previous question. \n",
    "\n",
    "**Question 2**: Did you get the same parameters? "
   ]
  },
  {
   "cell_type": "code",
   "execution_count": 6,
   "metadata": {},
   "outputs": [
    {
     "name": "stdout",
     "output_type": "stream",
     "text": [
      "model coefficients are: [ -10.01 -239.82  519.84  324.39 -792.18  476.75  101.04  177.06  751.28\n",
      "   67.63  152.13]\n",
      "model intercept is 152.0\n",
      "Answer to question is yes\n"
     ]
    }
   ],
   "source": [
    "from sklearn.linear_model import LinearRegression as LR\n",
    "\n",
    "#Produce weights using LinearRegression from sklearn\n",
    "lr = LR(fit_intercept=False).fit(X, y)\n",
    "lr_int = LR().fit(X, y) # created so intercept will properly show with lr_int.intercept_\n",
    "\n",
    "print('model coefficients are:', np.round(lr.coef_, 2))\n",
    "print('model intercept is', np.round(lr_int.intercept_))\n",
    "print('Answer to question is', 'yes')"
   ]
  },
  {
   "cell_type": "markdown",
   "metadata": {},
   "source": [
    "#### Question 2: Did you get the same parameters? \n",
    "Answer: yes"
   ]
  },
  {
   "cell_type": "markdown",
   "metadata": {},
   "source": [
    "________________________________________________________________________________________________________\n",
    "\n",
    "Recall that to predict the output from our model, $\\hat{y}$, from $w$ and $X$ we need to use the following formula:\n",
    "\n",
    "- $\\hat{y}=w^TX^T$\n",
    "\n",
    "Where $X$ is a matrix with example instances in *each row* of the matrix. \n",
    "\n",
    "**Exercise 3:** \n",
    "- *Part A:* Use matrix multiplication to predict output using numpy, $\\hat{y}_{numpy}$ and also using the sklearn regression object, $\\hat{y}_{sklearn}$.\n",
    " - **Note**: you may need to make the regression weights a column vector using the following code: `w = w.reshape((len(w),1))` This assumes your weights vector is assigned to the variable named `w`.\n",
    "- *Part B:* Calculate the mean squared error between your prediction from numpy and the target, $\\sum_i(y-\\hat{y}_{numpy})^2$. \n",
    "- *Part C:* Calculate the mean squared error between your sklearn prediction and the target, $\\sum_i(y-\\hat{y}_{sklearn})^2$."
   ]
  },
  {
   "cell_type": "code",
   "execution_count": 7,
   "metadata": {
    "scrolled": false
   },
   "outputs": [
    {
     "name": "stdout",
     "output_type": "stream",
     "text": [
      "MSE numpy is: 2859.69\n",
      "MSE SKlearn is: 2859.69\n"
     ]
    }
   ],
   "source": [
    "#Part A\n",
    "y_hat_np = np.dot(w.T, X.T)\n",
    "y_hat_sklearn = lr.predict(X)\n",
    "\n",
    "#Part B\n",
    "mse_np = (np.square(y-y_hat_np).sum())/X.shape[0]\n",
    "print('MSE numpy is: ' + str(np.round(mse_np, 2)))\n",
    "\n",
    "#Part C\n",
    "mse_sklearn = (np.square(y-y_hat_sklearn).sum())/X.shape[0]\n",
    "print('MSE SKlearn is: ' + str(np.round(mse_sklearn, 2)))"
   ]
  },
  {
   "cell_type": "markdown",
   "metadata": {},
   "source": [
    "________________________________________________________________________________________________________\n",
    "<a id=\"classification\"></a>\n",
    "<a href=\"#top\">Back to Top</a>\n",
    "## Using Linear Classification\n",
    "Now lets use the code you created to make a classifier with linear boundaries. Run the following code in order to load the iris dataset."
   ]
  },
  {
   "cell_type": "code",
   "execution_count": 8,
   "metadata": {},
   "outputs": [
    {
     "name": "stdout",
     "output_type": "stream",
     "text": [
      "features shape: (150, 4)\n",
      "original number of classes: 3\n",
      "new number of classes: 2\n"
     ]
    }
   ],
   "source": [
    "from sklearn.datasets import load_iris\n",
    "from sklearn.linear_model import LinearRegression as LR\n",
    "import numpy as np\n",
    "\n",
    "# this will overwrite the diabetes dataset\n",
    "ds = load_iris()\n",
    "print('features shape:', ds.data.shape) # there are 150 instances and 4 features per instance\n",
    "print('original number of classes:', len(np.unique(ds.target)))\n",
    "\n",
    "# now let's make this a binary classification task\n",
    "ds.target = ds.target>1\n",
    "print ('new number of classes:', len(np.unique(ds.target)))"
   ]
  },
  {
   "cell_type": "markdown",
   "metadata": {},
   "source": [
    "________________________________________________________________________________________________________\n",
    "\n",
    "**Exercise 4:** Now use linear regression to come up with a set of weights, `w`, that predict the class value. This is exactly like you did before for the *diabetes* dataset. However, instead of regressing to continuous values, you are just regressing to the integer value of the class (0 or 1), like we talked about in the video. Remember to account for the bias term when constructing the feature matrix, `X`. Print the weights of the linear classifier."
   ]
  },
  {
   "cell_type": "code",
   "execution_count": 9,
   "metadata": {},
   "outputs": [
    {
     "name": "stdout",
     "output_type": "stream",
     "text": [
      "The set of continuous weights using numpy is:\n",
      "\t[-0.04587608  0.20276839  0.00398791  0.55177932 -0.69528186]\n",
      "\n",
      "The set of continuous weights using sklearn is: \n",
      "\t[-0.04587608  0.20276839  0.00398791  0.55177932 -0.69528186]\n"
     ]
    }
   ],
   "source": [
    "# code to get value of weights for iris set \n",
    "y = ds.target\n",
    "X = ds.data\n",
    "\n",
    "bias = np.ones([len(X), 1])\n",
    "X = np.hstack((X, bias))\n",
    "\n",
    "w = np.dot(np.dot(np.linalg.inv(np.dot(X.T, X)), X.T), y)\n",
    "print(\"The set of continuous weights using numpy is:\")\n",
    "print('\\t' +  str(w) + '\\n')\n",
    "\n",
    "lr = LR(fit_intercept=False).fit(X, y) # get weights using sklearn linear regression for comparison\n",
    "print(\"The set of continuous weights using sklearn is: \")\n",
    "print('\\t' + str(lr.coef_))"
   ]
  },
  {
   "cell_type": "markdown",
   "metadata": {},
   "source": [
    "________________________________________________________________________________________________________\n",
    "\n",
    "**Exercise 5:** Finally, use a hard decision function on the output of the linear regression to make this a binary classifier. This is just like we talked about in the video, where the output of the linear regression passes through a function: \n",
    "\n",
    "- $\\hat{y}=g(w^TX^T)$ where\n",
    " - $g(w^TX^T)$ for $w^TX^T < \\alpha$ maps the predicted class to `0` \n",
    " - $g(w^TX^T)$ for $w^TX^T \\geq \\alpha$ maps the predicted class to `1`. \n",
    "\n",
    "Here, alpha is a threshold for deciding the class. \n",
    "\n",
    "**Question 3**: What value for $\\alpha$ makes the most sense? What is the accuracy of the classifier given the $\\alpha$ you chose? \n",
    "\n",
    "Note: You can calculate the accuracy with the following code: `accuracy = float(sum(yhat==y)) / len(y)` assuming you choose variable names `y` and `yhat` for the target and prediction, respectively."
   ]
  },
  {
   "cell_type": "code",
   "execution_count": 10,
   "metadata": {
    "scrolled": true
   },
   "outputs": [
    {
     "name": "stdout",
     "output_type": "stream",
     "text": [
      "alpha:  0.0\n",
      "Percentage accuracy: 0.6066666666666667\n",
      "alpha:  0.01\n",
      "Percentage accuracy: 0.6066666666666667\n",
      "alpha:  0.02\n",
      "Percentage accuracy: 0.62\n",
      "alpha:  0.03\n",
      "Percentage accuracy: 0.6266666666666667\n",
      "alpha:  0.04\n",
      "Percentage accuracy: 0.6266666666666667\n",
      "alpha:  0.05\n",
      "Percentage accuracy: 0.6466666666666666\n",
      "alpha:  0.06\n",
      "Percentage accuracy: 0.6466666666666666\n",
      "alpha:  0.07\n",
      "Percentage accuracy: 0.6533333333333333\n",
      "alpha:  0.08\n",
      "Percentage accuracy: 0.6666666666666666\n",
      "alpha:  0.09\n",
      "Percentage accuracy: 0.6666666666666666\n",
      "alpha:  0.1\n",
      "Percentage accuracy: 0.6666666666666666\n",
      "alpha:  0.11\n",
      "Percentage accuracy: 0.68\n",
      "alpha:  0.12\n",
      "Percentage accuracy: 0.68\n",
      "alpha:  0.13\n",
      "Percentage accuracy: 0.6866666666666666\n",
      "alpha:  0.14\n",
      "Percentage accuracy: 0.7\n",
      "alpha:  0.15\n",
      "Percentage accuracy: 0.7\n",
      "alpha:  0.16\n",
      "Percentage accuracy: 0.7066666666666667\n",
      "alpha:  0.17\n",
      "Percentage accuracy: 0.72\n",
      "alpha:  0.18\n",
      "Percentage accuracy: 0.7266666666666667\n",
      "alpha:  0.19\n",
      "Percentage accuracy: 0.7266666666666667\n",
      "alpha:  0.2\n",
      "Percentage accuracy: 0.7333333333333333\n",
      "alpha:  0.21\n",
      "Percentage accuracy: 0.7333333333333333\n",
      "alpha:  0.22\n",
      "Percentage accuracy: 0.74\n",
      "alpha:  0.23\n",
      "Percentage accuracy: 0.74\n",
      "alpha:  0.24\n",
      "Percentage accuracy: 0.74\n",
      "alpha:  0.25\n",
      "Percentage accuracy: 0.7466666666666667\n",
      "alpha:  0.26\n",
      "Percentage accuracy: 0.76\n",
      "alpha:  0.27\n",
      "Percentage accuracy: 0.7666666666666667\n",
      "alpha:  0.28\n",
      "Percentage accuracy: 0.7733333333333333\n",
      "alpha:  0.29\n",
      "Percentage accuracy: 0.7733333333333333\n",
      "alpha:  0.3\n",
      "Percentage accuracy: 0.78\n",
      "alpha:  0.31\n",
      "Percentage accuracy: 0.78\n",
      "alpha:  0.32\n",
      "Percentage accuracy: 0.7866666666666666\n",
      "alpha:  0.33\n",
      "Percentage accuracy: 0.8\n",
      "alpha:  0.34\n",
      "Percentage accuracy: 0.8133333333333334\n",
      "alpha:  0.35000000000000003\n",
      "Percentage accuracy: 0.8266666666666667\n",
      "alpha:  0.36\n",
      "Percentage accuracy: 0.8333333333333334\n",
      "alpha:  0.37\n",
      "Percentage accuracy: 0.8533333333333334\n",
      "alpha:  0.38\n",
      "Percentage accuracy: 0.8533333333333334\n",
      "alpha:  0.39\n",
      "Percentage accuracy: 0.86\n",
      "alpha:  0.4\n",
      "Percentage accuracy: 0.86\n",
      "alpha:  0.41000000000000003\n",
      "Percentage accuracy: 0.88\n",
      "alpha:  0.42\n",
      "Percentage accuracy: 0.8866666666666667\n",
      "alpha:  0.43\n",
      "Percentage accuracy: 0.9066666666666666\n",
      "alpha:  0.44\n",
      "Percentage accuracy: 0.9\n",
      "alpha:  0.45\n",
      "Percentage accuracy: 0.9\n",
      "alpha:  0.46\n",
      "Percentage accuracy: 0.9\n",
      "alpha:  0.47000000000000003\n",
      "Percentage accuracy: 0.9133333333333333\n",
      "alpha:  0.48\n",
      "Percentage accuracy: 0.92\n",
      "alpha:  0.49\n",
      "Percentage accuracy: 0.9266666666666666\n",
      "alpha:  0.5\n",
      "Percentage accuracy: 0.9266666666666666\n",
      "alpha:  0.51\n",
      "Percentage accuracy: 0.94\n",
      "alpha:  0.52\n",
      "Percentage accuracy: 0.9466666666666667\n",
      "alpha:  0.53\n",
      "Percentage accuracy: 0.94\n",
      "alpha:  0.54\n",
      "Percentage accuracy: 0.94\n",
      "alpha:  0.55\n",
      "Percentage accuracy: 0.9333333333333333\n",
      "alpha:  0.56\n",
      "Percentage accuracy: 0.9333333333333333\n",
      "alpha:  0.5700000000000001\n",
      "Percentage accuracy: 0.94\n",
      "alpha:  0.58\n",
      "Percentage accuracy: 0.9266666666666666\n",
      "alpha:  0.59\n",
      "Percentage accuracy: 0.9333333333333333\n",
      "alpha:  0.6\n",
      "Percentage accuracy: 0.9266666666666666\n",
      "alpha:  0.61\n",
      "Percentage accuracy: 0.9133333333333333\n",
      "alpha:  0.62\n",
      "Percentage accuracy: 0.9133333333333333\n",
      "alpha:  0.63\n",
      "Percentage accuracy: 0.9\n",
      "alpha:  0.64\n",
      "Percentage accuracy: 0.9\n",
      "alpha:  0.65\n",
      "Percentage accuracy: 0.88\n",
      "alpha:  0.66\n",
      "Percentage accuracy: 0.8466666666666667\n",
      "alpha:  0.67\n",
      "Percentage accuracy: 0.8466666666666667\n",
      "alpha:  0.68\n",
      "Percentage accuracy: 0.84\n",
      "alpha:  0.6900000000000001\n",
      "Percentage accuracy: 0.84\n",
      "alpha:  0.7000000000000001\n",
      "Percentage accuracy: 0.8466666666666667\n",
      "alpha:  0.71\n",
      "Percentage accuracy: 0.8466666666666667\n",
      "alpha:  0.72\n",
      "Percentage accuracy: 0.8466666666666667\n",
      "alpha:  0.73\n",
      "Percentage accuracy: 0.8466666666666667\n",
      "alpha:  0.74\n",
      "Percentage accuracy: 0.8333333333333334\n",
      "alpha:  0.75\n",
      "Percentage accuracy: 0.8266666666666667\n",
      "alpha:  0.76\n",
      "Percentage accuracy: 0.82\n",
      "alpha:  0.77\n",
      "Percentage accuracy: 0.8133333333333334\n",
      "alpha:  0.78\n",
      "Percentage accuracy: 0.8\n",
      "alpha:  0.79\n",
      "Percentage accuracy: 0.7933333333333333\n",
      "alpha:  0.8\n",
      "Percentage accuracy: 0.7866666666666666\n",
      "alpha:  0.81\n",
      "Percentage accuracy: 0.7866666666666666\n",
      "alpha:  0.8200000000000001\n",
      "Percentage accuracy: 0.78\n",
      "alpha:  0.8300000000000001\n",
      "Percentage accuracy: 0.78\n",
      "alpha:  0.84\n",
      "Percentage accuracy: 0.78\n",
      "alpha:  0.85\n",
      "Percentage accuracy: 0.7666666666666667\n",
      "alpha:  0.86\n",
      "Percentage accuracy: 0.7533333333333333\n",
      "alpha:  0.87\n",
      "Percentage accuracy: 0.7533333333333333\n",
      "alpha:  0.88\n",
      "Percentage accuracy: 0.7533333333333333\n",
      "alpha:  0.89\n",
      "Percentage accuracy: 0.7533333333333333\n",
      "alpha:  0.9\n",
      "Percentage accuracy: 0.7466666666666667\n",
      "alpha:  0.91\n",
      "Percentage accuracy: 0.74\n",
      "alpha:  0.92\n",
      "Percentage accuracy: 0.74\n",
      "alpha:  0.93\n",
      "Percentage accuracy: 0.7333333333333333\n",
      "alpha:  0.9400000000000001\n",
      "Percentage accuracy: 0.7266666666666667\n",
      "alpha:  0.9500000000000001\n",
      "Percentage accuracy: 0.7266666666666667\n",
      "alpha:  0.96\n",
      "Percentage accuracy: 0.7133333333333334\n",
      "alpha:  0.97\n",
      "Percentage accuracy: 0.7066666666666667\n",
      "alpha:  0.98\n",
      "Percentage accuracy: 0.7\n",
      "alpha:  0.99\n",
      "Percentage accuracy: 0.7\n"
     ]
    }
   ],
   "source": [
    "#Binarize the predicted output and get accuracy score\n",
    "\n",
    "#Generate predicted for weights using numpy\n",
    "y_hat = np.dot(w, X.T)\n",
    "\n",
    "#Function comparator takes numerical input and forces it to a high or low value based on alpha\n",
    "def comparator(input, alpha, low_val, high_val): \n",
    "    return low_val if input < alpha  else high_val\n",
    "\n",
    "#find optimal alpha by by checking accuracy\n",
    "for alpha in np.arange(0, 1, .01):\n",
    "    print(\"alpha: \", alpha)\n",
    "    y_hat_binarized = []\n",
    "    for x in y_hat:\n",
    "        result = comparator(x, alpha, False, True)\n",
    "        y_hat_binarized.append(result)\n",
    "    accuracy = float(sum(y_hat_binarized==y)) / len(y)\n",
    "    print('Percentage accuracy:', accuracy)\n"
   ]
  },
  {
   "cell_type": "markdown",
   "metadata": {},
   "source": [
    "##### Question 3: What value for 𝛼 makes the most sense? What is the accuracy of the classifier given the 𝛼 you chose?\n",
    "The value of alpha that makes the most sense for this particular set is one that predicts the actual output with the best accuracy.<br>\n",
    "\n",
    "**best result:** alpha = 0.52 gives an accuracy of 94.7%\n",
    "\n",
    "**note:** Since there is no cross-validation, result probably will not generalize"
   ]
  },
  {
   "cell_type": "markdown",
   "metadata": {},
   "source": [
    "________________________________________________________________________________________________________\n",
    "\n",
    "That's all! Please **save (make sure you saved!!!) and upload your rendered notebook** and please include **team member names** in the notebook submission."
   ]
  },
  {
   "cell_type": "code",
   "execution_count": null,
   "metadata": {},
   "outputs": [],
   "source": []
  }
 ],
 "metadata": {
  "kernelspec": {
   "display_name": "Python 3",
   "language": "python",
   "name": "python3"
  },
  "language_info": {
   "codemirror_mode": {
    "name": "ipython",
    "version": 3
   },
   "file_extension": ".py",
   "mimetype": "text/x-python",
   "name": "python",
   "nbconvert_exporter": "python",
   "pygments_lexer": "ipython3",
   "version": "3.6.6"
  }
 },
 "nbformat": 4,
 "nbformat_minor": 1
}
